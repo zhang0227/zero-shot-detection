{
 "cells": [
  {
   "cell_type": "code",
   "execution_count": 1,
   "metadata": {},
   "outputs": [
    {
     "name": "stdout",
     "output_type": "stream",
     "text": [
      "Using matplotlib backend: Qt5Agg\n"
     ]
    }
   ],
   "source": [
    "import json\n",
    "import numpy as np\n",
    "import pandas as pd\n",
    "from sklearn.manifold import TSNE\n",
    "from time import time\n",
    "\n",
    "import matplotlib.pyplot as plt\n",
    "from mpl_toolkits.mplot3d import Axes3D\n",
    "from matplotlib.ticker import NullFormatter\n",
    "%matplotlib\n",
    "from sklearn import manifold, datasets"
   ]
  },
  {
   "cell_type": "code",
   "execution_count": 2,
   "metadata": {
    "collapsed": true
   },
   "outputs": [],
   "source": [
    "\n",
    "with open(\"instances_train.json\",'r') as instances_train:\n",
    "    instances_train_dict = json.load(instances_train)\n",
    "\n",
    "categories_dict = {}\n",
    "for i in instances_train_dict['categories']:\n",
    "    categories_dict[i['id']]=i['name']\n",
    "images=instances_train_dict['images']\n",
    "annotations = instances_train_dict['annotations']\n",
    "\n",
    "class_boxnum = {}#统计每个class的box数目\n",
    "class_image={}#统计每个class所在图片\n",
    "class_imagenum={}#统计每个class的图片数\n",
    "for annotation in annotations:\n",
    "    #统计每个class的box数目\n",
    "    if categories_dict[annotation['category_id']] not in class_boxnum:\n",
    "        class_boxnum[categories_dict[annotation['category_id']]] = 1\n",
    "    else:\n",
    "        class_boxnum[categories_dict[annotation['category_id']]] += 1\n",
    "    #统计每个class所在图片\n",
    "    if categories_dict[annotation['category_id']] not in class_image:\n",
    "        class_image[categories_dict[annotation['category_id']]] = set()\n",
    "        class_image[categories_dict[annotation['category_id']]].add(annotation['image_id'])\n",
    "    else:\n",
    "        class_image[categories_dict[annotation['category_id']]].add(annotation['image_id'])\n",
    "\n",
    "\n",
    "for key in class_image.keys():\n",
    "    class_imagenum[key]=len(class_image[key])\n",
    "\n"
   ]
  },
  {
   "cell_type": "code",
   "execution_count": 8,
   "metadata": {
    "collapsed": true
   },
   "outputs": [],
   "source": [
    "#写出类别\n",
    "categories_csv = []\n",
    "for i in range(80):\n",
    "    #print(categories_dict[i])\n",
    "    categories_csv.append({'name':categories_dict[i],'id':i})\n",
    "pd.DataFrame(categories_csv).to_csv('categories_csv.csv')"
   ]
  },
  {
   "cell_type": "code",
   "execution_count": 4,
   "metadata": {},
   "outputs": [
    {
     "data": {
      "text/plain": [
       "{'area': 172517.9061676068,\n",
       " 'bbox': [0.1479492061, 222.2470703104, 595.7814941417, 289.56573486080003],\n",
       " 'category_id': 58,\n",
       " 'id': 0,\n",
       " 'image_id': 23748,\n",
       " 'iscrowd': 0}"
      ]
     },
     "execution_count": 4,
     "metadata": {},
     "output_type": "execute_result"
    }
   ],
   "source": [
    "annotations[0]"
   ]
  },
  {
   "cell_type": "code",
   "execution_count": 8,
   "metadata": {},
   "outputs": [
    {
     "name": "stdout",
     "output_type": "stream",
     "text": [
      "done\n"
     ]
    }
   ],
   "source": [
    "# img_8位.jpg x1,y1,x2,y2,class_name pd.DataFrame(shop_pay_count).to_csv('shop_pay_count_demo.csv')\n",
    "new_annotations=[]\n",
    "for annotation in annotations:\n",
    "    image_id = annotation['image_id']\n",
    "    filename ='img_' + '%08d' % image_id + '.jpg'\n",
    "    x1,y1,w,h = annotation['bbox']\n",
    "    x2 = x1 + w\n",
    "    y2 = y1 + h\n",
    "    classname = categories_dict[annotation['category_id']]\n",
    "    new_annotation = {'filename':filename,'x1':x1,'y1':y1,'x2':x2,'y2':y2,'classname':classname}\n",
    "    new_annotations.append(new_annotation)\n",
    "pd.DataFrame(new_annotations).to_csv('new_annotations.csv')\n",
    "print('done')"
   ]
  },
  {
   "cell_type": "code",
   "execution_count": 5,
   "metadata": {
    "collapsed": true
   },
   "outputs": [],
   "source": [
    "#划分训练子集\n",
    "train_id = set()\n",
    "for categorie in categories_dict.values():\n",
    "    if class_imagenum[categorie] < 1000:\n",
    "        for i in range(int(len(class_image[categorie])*0.9)):\n",
    "            train_id.add(list(class_image[categorie])[i])\n",
    "    elif class_imagenum[categorie] > 1000 and  class_imagenum[categorie] < 2000:\n",
    "        for i in range(int(len(class_image[categorie])*0.2)):\n",
    "            train_id.add(list(class_image[categorie])[i])\n",
    "    elif class_imagenum[categorie] > 2000 and  class_imagenum[categorie] < 4000:\n",
    "        for i in range(int(len(class_image[categorie])*0.1)):\n",
    "            train_id.add(list(class_image[categorie])[i])\n",
    "    elif class_imagenum[categorie] > 4000 and  class_imagenum[categorie] < 10000:\n",
    "        for i in range(int(len(class_image[categorie])*0.1)):\n",
    "            train_id.add(list(class_image[categorie])[i])\n",
    "    elif class_imagenum[categorie] > 10000:\n",
    "        for i in range(int(len(class_image[categorie])*0.1)):\n",
    "            train_id.add(list(class_image[categorie])[i])\n",
    "len(train_id)"
   ]
  },
  {
   "cell_type": "code",
   "execution_count": 3,
   "metadata": {},
   "outputs": [
    {
     "data": {
      "text/plain": [
       "7350"
      ]
     },
     "execution_count": 3,
     "metadata": {},
     "output_type": "execute_result"
    }
   ],
   "source": [
    "#划分测试集\n",
    "test = []\n",
    "for categorie in categories_dict.values():\n",
    "    if class_imagenum[categorie] <2000:\n",
    "        for i in list(class_image[categorie])[int(len(class_image[categorie])*0.9):]:\n",
    "            test.append(i)\n",
    "    else:\n",
    "        for i in list(class_image[categorie])[-200:]:\n",
    "            test.append(i)\n",
    "test = set(test)\n",
    "len(test)"
   ]
  },
  {
   "cell_type": "code",
   "execution_count": 12,
   "metadata": {},
   "outputs": [
    {
     "name": "stdout",
     "output_type": "stream",
     "text": [
      "done\n"
     ]
    }
   ],
   "source": [
    "#生成训练子集与测试集文件\n",
    "train_annotations=[]\n",
    "test_annotations = []\n",
    "for annotation in annotations:\n",
    "    image_id = annotation['image_id']\n",
    "    filename ='/disk2/zhang/ZJZSD/ZJLAB_ZSD_2019/train/img_' + '%08d' % image_id + '.jpg'\n",
    "    #处理box数值\n",
    "    x1,y1,w,h = annotation['bbox']\n",
    "    a = lambda x : x if x > 0 else 0\n",
    "    x1 = a(x1)\n",
    "    y1 = a(y1)\n",
    "    b = lambda x : x if x > 1 else 1\n",
    "    w = b(w)\n",
    "    h = b(h)\n",
    "    x2 = x1 + w\n",
    "    y2 = y1 + h\n",
    "    x1 = round(x1)\n",
    "    y1 = round(y1)\n",
    "    x2 = round(x2)\n",
    "    y2 = round(y2)\n",
    "    \n",
    "    if x1<x2 and y1<y2:\n",
    "        classname = categories_dict[annotation['category_id']]\n",
    "        new_annotation = {'filename':filename,'x1':x1,'y1':y1,'x2':x2,'y2':y2,'classname':classname}\n",
    "        if image_id in train_id:\n",
    "            train_annotations.append(new_annotation)\n",
    "        elif image_id in test:\n",
    "            test_annotations.append(new_annotation)\n",
    "pd.DataFrame(train_annotations).to_csv('train_annotations.csv')\n",
    "pd.DataFrame(test_annotations).to_csv('test_annotations.csv')\n",
    "print('done')"
   ]
  },
  {
   "cell_type": "code",
   "execution_count": 4,
   "metadata": {},
   "outputs": [
    {
     "name": "stdout",
     "output_type": "stream",
     "text": [
      "done\n"
     ]
    }
   ],
   "source": [
    "#生成全量训练集与测试集文件\n",
    "train_annotations=[]\n",
    "test_annotations = []\n",
    "for annotation in annotations:\n",
    "    image_id = annotation['image_id']\n",
    "    filename ='/disk2/zhang/ZJZSD/ZJLAB_ZSD_2019/train/img_' + '%08d' % image_id + '.jpg'\n",
    "    #处理box数值\n",
    "    x1,y1,w,h = annotation['bbox']\n",
    "    a = lambda x : x if x > 0 else 0\n",
    "    x1 = a(x1)\n",
    "    y1 = a(y1)\n",
    "    b = lambda x : x if x > 1 else 1\n",
    "    w = b(w)\n",
    "    h = b(h)\n",
    "    x2 = x1 + w\n",
    "    y2 = y1 + h\n",
    "    x1 = round(x1)\n",
    "    y1 = round(y1)\n",
    "    x2 = round(x2)\n",
    "    y2 = round(y2)\n",
    "    \n",
    "    if x1<x2 and y1<y2:\n",
    "        classname = categories_dict[annotation['category_id']]\n",
    "        new_annotation = {'filename':filename,'x1':x1,'y1':y1,'x2':x2,'y2':y2,'classname':classname}\n",
    "        if image_id in test:\n",
    "            test_annotations.append(new_annotation)\n",
    "        else:\n",
    "            train_annotations.append(new_annotation)\n",
    "pd.DataFrame(train_annotations).to_csv('train_annotations_all.csv')\n",
    "pd.DataFrame(test_annotations).to_csv('test_annotations.csv')\n",
    "print('done')"
   ]
  },
  {
   "cell_type": "code",
   "execution_count": 2,
   "metadata": {
    "collapsed": true
   },
   "outputs": [],
   "source": [
    "#读入coco词向量进字典\n",
    "coco_w2v = np.loadtxt('word_w2v.txt',dtype='float32', delimiter=',')\n",
    "coco_w2v = coco_w2v.T\n",
    "coco_dict={}\n",
    "coco_name=\n",
    "for i in range(len(coco_name)):\n",
    "    coco_dict[coco_name[i]] =  coco_w2v[i]"
   ]
  },
  {
   "cell_type": "code",
   "execution_count": 17,
   "metadata": {},
   "outputs": [
    {
     "name": "stdout",
     "output_type": "stream",
     "text": [
      "horse\n"
     ]
    }
   ],
   "source": [
    "#读入之江词向量到列表\n",
    "with open('seen_embeddings_GloVe.json','r') as f:\n",
    "    seen_embeddings_GloVe = json.load(f)\n",
    "emebdd = []\n",
    "label = []\n",
    "for i in seen_embeddings_GloVe.items():\n",
    "    key , value = i\n",
    "    label.append(key)\n",
    "    emebdd.append(np.array(value[0]))\n",
    "    \n",
    "X = np.array(emebdd)\n",
    "print(label[0])"
   ]
  },
  {
   "cell_type": "code",
   "execution_count": 19,
   "metadata": {},
   "outputs": [
    {
     "data": {
      "text/plain": [
       "<function TextIOWrapper.close>"
      ]
     },
     "execution_count": 19,
     "metadata": {},
     "output_type": "execute_result"
    }
   ],
   "source": [
    "result = np.loadtxt('自制w2v/word_w2v_l2.txt',dtype = 'float32',delimiter=',')\n",
    "result = result.T\n",
    "label = []\n",
    "with open('oneword_list.txt','r') as f:\n",
    "    for line in f.readlines():\n",
    "        label.append(line)\n",
    "f.close"
   ]
  },
  {
   "cell_type": "code",
   "execution_count": 22,
   "metadata": {},
   "outputs": [
    {
     "name": "stdout",
     "output_type": "stream",
     "text": [
      "t-SNE: 0.47 sec\n"
     ]
    }
   ],
   "source": [
    "'''t-SNE'''\n",
    "t0 = time()\n",
    "tsne = manifold.TSNE(n_components=2, init='pca', random_state=0)\n",
    "result = tsne.fit_transform(result)  # 转换后的输出\n",
    "t1 = time()\n",
    "print(\"t-SNE: %.2g sec\" % (t1 - t0))  # 算法用时\n",
    "def plot_embedding(data, label, title):\n",
    "    x_min, x_max = np.min(data, 0), np.max(data, 0)\n",
    "    data = (data - x_min) / (x_max - x_min)\n",
    " \n",
    "    fig = plt.figure(figsize=(10, 10))\n",
    "    #ax = plt.subplot(111)\n",
    "    for i in range(data.shape[0]):\n",
    "        plt.text(data[i, 0], data[i, 1], str(label[i]),\n",
    "                 fontdict={'weight': 'bold', 'size': 9})\n",
    "    plt.xticks([])\n",
    "    plt.yticks([])\n",
    "    plt.title(title)\n",
    "    return fig\n",
    "fig = plot_embedding(result, label, 't-SNE embedding')\n",
    "plt.show(fig)"
   ]
  },
  {
   "cell_type": "code",
   "execution_count": 7,
   "metadata": {
    "collapsed": true
   },
   "outputs": [],
   "source": [
    "#正则化\n",
    "import keras.backend as K\n",
    "\n",
    "def normal_w2v(v):\n",
    "    v = K.l2_normalize(v,axis=0)\n",
    "    v = K.eval(v)\n",
    "    return v\n",
    "word = np.loadtxt('word_glo.txt',dtype='float32', delimiter=',')\n",
    "np.savetxt('word_glo_l2.txt',normal_w2v(word), delimiter=',')\n",
    "voca = np.loadtxt('vocabulary_glo.txt',dtype='float32', delimiter=',')\n",
    "np.savetxt('vocabulary_glo_l2.txt',normal_w2v(voca), delimiter=',')"
   ]
  },
  {
   "cell_type": "code",
   "execution_count": null,
   "metadata": {
    "collapsed": true
   },
   "outputs": [],
   "source": []
  }
 ],
 "metadata": {
  "kernelspec": {
   "display_name": "Python 3",
   "language": "python",
   "name": "python3"
  },
  "language_info": {
   "codemirror_mode": {
    "name": "ipython",
    "version": 3
   },
   "file_extension": ".py",
   "mimetype": "text/x-python",
   "name": "python",
   "nbconvert_exporter": "python",
   "pygments_lexer": "ipython3",
   "version": "3.5.6"
  }
 },
 "nbformat": 4,
 "nbformat_minor": 2
}
