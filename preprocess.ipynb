{
 "cells": [
  {
   "cell_type": "code",
   "execution_count": 5,
   "metadata": {},
   "outputs": [
    {
     "name": "stdout",
     "output_type": "stream",
     "text": [
      "Using matplotlib backend: Qt5Agg\n"
     ]
    }
   ],
   "source": [
    "import json\n",
    "import numpy as np\n",
    "import pandas as pd\n",
    "from sklearn.manifold import TSNE\n",
    "from time import time\n",
    "\n",
    "import matplotlib.pyplot as plt\n",
    "from mpl_toolkits.mplot3d import Axes3D\n",
    "from matplotlib.ticker import NullFormatter\n",
    "%matplotlib\n",
    "from sklearn import manifold, datasets\n",
    "import json\n"
   ]
  },
  {
   "cell_type": "code",
   "execution_count": 2,
   "metadata": {},
   "outputs": [
    {
     "name": "stdout",
     "output_type": "stream",
     "text": [
      "Using matplotlib backend: Qt5Agg\n"
     ]
    }
   ],
   "source": [
    "with open(\"instances_train.json\",'r') as instances_train:\n",
    "    instances_train_dict = json.load(instances_train)\n",
    "\n",
    "categories_dict = {}\n",
    "for i in instances_train_dict['categories']:\n",
    "    categories_dict[i['id']]=i['name']\n",
    "images=instances_train_dict['images']\n",
    "annotations = instances_train_dict['annotations']"
   ]
  },
  {
   "cell_type": "code",
   "execution_count": 3,
   "metadata": {},
   "outputs": [
    {
     "data": {
      "text/plain": [
       "dict_keys(['images', 'categories', 'annotations'])"
      ]
     },
     "execution_count": 3,
     "metadata": {},
     "output_type": "execute_result"
    }
   ],
   "source": [
    "instances_train_dict.keys()"
   ]
  },
  {
   "cell_type": "code",
   "execution_count": 18,
   "metadata": {},
   "outputs": [
    {
     "name": "stdout",
     "output_type": "stream",
     "text": [
      "{0: 'person', 1: 'bicycle', 2: 'car', 3: 'motorcycle', 4: 'airplane', 5: 'bus', 6: 'train', 7: 'truck', 8: 'boat', 9: 'traffic light', 10: 'fire hydrant', 11: 'stop sign', 12: 'parking meter', 13: 'bench', 14: 'bird', 15: 'cat', 16: 'dog', 17: 'horse', 18: 'sheep', 19: 'cow', 20: 'elephant', 21: 'bear', 22: 'zebra', 23: 'giraffe', 24: 'backpack', 25: 'umbrella', 26: 'handbag', 27: 'tie', 28: 'suitcase', 29: 'frisbee', 30: 'skis', 31: 'snowboard', 32: 'kite', 33: 'baseball bat', 34: 'baseball glove', 35: 'skateboard', 36: 'surfboard', 37: 'tennis racket', 38: 'bottle', 39: 'wine glass', 40: 'cup', 41: 'fork', 42: 'knife', 43: 'spoon', 44: 'bowl', 45: 'banana', 46: 'apple', 47: 'sandwich', 48: 'orange', 49: 'broccoli', 50: 'carrot', 51: 'hot dog', 52: 'pizza', 53: 'donut', 54: 'cake', 55: 'chair', 56: 'couch', 57: 'potted plant', 58: 'bed', 59: 'dining table', 60: 'toilet', 61: 'tv', 62: 'laptop', 63: 'mouse', 64: 'remote', 65: 'keyboard', 66: 'cell phone', 67: 'microwave', 68: 'oven', 69: 'toaster', 70: 'sink', 71: 'refrigerator', 72: 'book', 73: 'clock', 74: 'vase', 75: 'scissors', 76: 'teddy bear', 77: 'hair drier', 78: 'toothbrush', 79: 'sports ball'}\n"
     ]
    }
   ],
   "source": [
    "categories_dict = {}\n",
    "for i in instances_train_dict['categories']:\n",
    "    categories_dict[i['id']]=i['name']\n",
    "#categories_dict = sorted(categories_dict.items(), key=lambda x: x[1], reverse=False)\n",
    "print(categories_dict)"
   ]
  },
  {
   "cell_type": "code",
   "execution_count": 21,
   "metadata": {},
   "outputs": [
    {
     "data": {
      "text/plain": [
       "142037"
      ]
     },
     "execution_count": 21,
     "metadata": {},
     "output_type": "execute_result"
    }
   ],
   "source": [
    "images=instances_train_dict['images']\n",
    "len(images)"
   ]
  },
  {
   "cell_type": "code",
   "execution_count": 20,
   "metadata": {},
   "outputs": [
    {
     "data": {
      "text/plain": [
       "{'file_name': 'img_00023748.jpg', 'height': 512, 'id': 23748, 'width': 683}"
      ]
     },
     "execution_count": 20,
     "metadata": {},
     "output_type": "execute_result"
    }
   ],
   "source": [
    "images[0]"
   ]
  },
  {
   "cell_type": "code",
   "execution_count": 23,
   "metadata": {
    "collapsed": true
   },
   "outputs": [],
   "source": [
    "all_images_list = []\n",
    "ratio_num=[0,0,0,0,0]\n",
    "ratios = []\n",
    "for image in images:\n",
    "    all_images_list.append(image['id'])\n",
    "    ratio = image['width']/image['height']\n",
    "    ratios.append(ratio)\n",
    "    if ratio >2 :\n",
    "        ratio_num[4]+=1\n",
    "    elif ratio >1.5 and ratio <=2:\n",
    "        ratio_num[3]+=1\n",
    "    elif ratio > 1 and ratio <=1.5:\n",
    "        ratio_num[2]+=1\n",
    "    elif ratio > 0.5 and ratio <=1:\n",
    "        ratio_num[1]+=1\n",
    "    elif ratio <=0.5:\n",
    "        ratio_num[0]+=1\n",
    "        \n",
    "        "
   ]
  },
  {
   "cell_type": "code",
   "execution_count": 28,
   "metadata": {},
   "outputs": [
    {
     "data": {
      "text/plain": [
       "[91, 29804, 84229, 26881, 1032]"
      ]
     },
     "execution_count": 28,
     "metadata": {},
     "output_type": "execute_result"
    }
   ],
   "source": [
    "ratio_num"
   ]
  },
  {
   "cell_type": "code",
   "execution_count": 27,
   "metadata": {},
   "outputs": [
    {
     "data": {
      "image/png": "[encoded data removed]",
      "text/plain": [
       "<Figure size 432x288 with 1 Axes>"
      ]
     },
     "metadata": {},
     "output_type": "display_data"
    }
   ],
   "source": [
    "import matplotlib.pyplot as plt\n",
    "group = [0.0,0.5,1.0,1.5,2.0,2.5,]\n",
    "plt.hist(ratios, group, facecolor=\"blue\", edgecolor=\"black\", alpha=0.7)\n",
    "# 显示横轴标签\n",
    "plt.xlabel(\"ratio\")\n",
    "# 显示纵轴标签\n",
    "plt.ylabel(\"num\")\n",
    "# 显示图标题\n",
    "plt.show()\n"
   ]
  },
  {
   "cell_type": "code",
   "execution_count": 3,
   "metadata": {},
   "outputs": [
    {
     "name": "stdout",
     "output_type": "stream",
     "text": [
      "860491\n"
     ]
    },
    {
     "data": {
      "text/plain": [
       "{'area': 172517.9061676068,\n",
       " 'bbox': [0.1479492061, 222.2470703104, 595.7814941417, 289.56573486080003],\n",
       " 'category_id': 58,\n",
       " 'id': 0,\n",
       " 'image_id': 23748,\n",
       " 'iscrowd': 0}"
      ]
     },
     "execution_count": 3,
     "metadata": {},
     "output_type": "execute_result"
    }
   ],
   "source": [
    "annotations = instances_train_dict['annotations']\n",
    "print(len(annotations))\n",
    "annotations[0]"
   ]
  },
  {
   "cell_type": "code",
   "execution_count": 6,
   "metadata": {
    "collapsed": true
   },
   "outputs": [],
   "source": [
    "class_boxnum = {}#统计每个class的box数目\n",
    "class_image={}#统计每个class所在图片\n",
    "box_per_image=[]\n",
    "for annotation in annotations:\n",
    "    #统计每个class的box数目\n",
    "    if categories_dict[annotation['category_id']] not in class_boxnum:\n",
    "        class_boxnum[categories_dict[annotation['category_id']]] = 1\n",
    "    else:\n",
    "        class_boxnum[categories_dict[annotation['category_id']]] += 1\n",
    "    #统计每个class所在图片\n",
    "    if categories_dict[annotation['category_id']] not in class_image:\n",
    "        class_image[categories_dict[annotation['category_id']]] = set()\n",
    "        class_image[categories_dict[annotation['category_id']]].add(annotation['image_id'])\n",
    "    else:\n",
    "        class_image[categories_dict[annotation['category_id']]].add(annotation['image_id'])\n",
    "\n",
    "class_imagenum={}#统计每个class的图片数\n",
    "for key in class_image.keys():\n",
    "    class_imagenum[key]=len(class_image[key])\n",
    "sorted(class_imagenum.items(),key=lambda x:x[1])        \n"
   ]
  },
  {
   "cell_type": "code",
   "execution_count": 14,
   "metadata": {
    "collapsed": true
   },
   "outputs": [],
   "source": [
    "with open('class_image.txt','w') as f:\n",
    "    for i in class_image.items():\n",
    "        f.write(str(i))\n",
    "        f.write('\\n')\n",
    "f.close()"
   ]
  },
  {
   "cell_type": "code",
   "execution_count": null,
   "metadata": {
    "collapsed": true
   },
   "outputs": [],
   "source": [
    "sorted(class_box.items(),key=lambda x:x[1])"
   ]
  },
  {
   "cell_type": "code",
   "execution_count": null,
   "metadata": {
    "collapsed": true
   },
   "outputs": [],
   "source": []
  },
  {
   "cell_type": "code",
   "execution_count": 7,
   "metadata": {
    "collapsed": true
   },
   "outputs": [],
   "source": [
    "#读coco词向量\n",
    "coconame = []\n",
    "with open('coconames.txt','r') as name:\n",
    "    for line in name.readlines():\n",
    "        coconame.append(line.replace('\\n',''))\n",
    "coco_w2v = np.loadtxt('coco_word_w2v.txt',dtype='float32', delimiter=',')\n",
    "cocodict = {}\n",
    "for i ,name in enumerate(coconame):\n",
    "    cocodict[name] = coco_w2v[:,i]"
   ]
  },
  {
   "cell_type": "code",
   "execution_count": 9,
   "metadata": {
    "collapsed": true
   },
   "outputs": [],
   "source": [
    "#coco顺序转化为之江顺序\n",
    "zjname = []\n",
    "with open('zjnames.txt','r') as name:\n",
    "    for line in name.readlines():\n",
    "        zjname.append(line.replace('\\n',''))\n",
    "zjw2v = []\n",
    "for i ,name in enumerate(zjname):\n",
    "    zjw2v.append(cocodict[name])\n",
    "zjw2v = np.around(zjw2v, decimals=6)"
   ]
  },
  {
   "cell_type": "code",
   "execution_count": 10,
   "metadata": {},
   "outputs": [
    {
     "data": {
      "text/plain": [
       "(80, 300)"
      ]
     },
     "execution_count": 10,
     "metadata": {},
     "output_type": "execute_result"
    }
   ],
   "source": [
    "zjw2v.shape"
   ]
  },
  {
   "cell_type": "code",
   "execution_count": 23,
   "metadata": {
    "collapsed": true
   },
   "outputs": [],
   "source": [
    "\n",
    "np.savetxt('zjw2v.txt',zjw2v.T,fmt=\"%.6f\",delimiter=',')"
   ]
  },
  {
   "cell_type": "code",
   "execution_count": 14,
   "metadata": {},
   "outputs": [
    {
     "name": "stdout",
     "output_type": "stream",
     "text": [
      "t-SNE: 0.46 sec\n"
     ]
    }
   ],
   "source": [
    "emebdd = []\n",
    "label = []\n",
    "for i in cocodict.items():\n",
    "    key , value = i\n",
    "    label.append(key)\n",
    "    emebdd.append(value)\n",
    "    \n",
    "X = np.array(emebdd)\n",
    "'''t-SNE'''\n",
    "t0 = time()\n",
    "tsne = manifold.TSNE(n_components=2, init='pca', random_state=0)\n",
    "result = tsne.fit_transform(X)  # 转换后的输出\n",
    "t1 = time()\n",
    "print(\"t-SNE: %.2g sec\" % (t1 - t0))  # 算法用时\n",
    "def plot_embedding(data, label, title):\n",
    "    x_min, x_max = np.min(data, 0), np.max(data, 0)\n",
    "    data = (data - x_min) / (x_max - x_min)\n",
    " \n",
    "    fig = plt.figure(figsize=(10, 10))\n",
    "    #ax = plt.subplot(111)\n",
    "    for i in range(data.shape[0]):\n",
    "        plt.text(data[i, 0], data[i, 1], str(label[i][:6]),\n",
    "                 fontdict={'weight': 'bold', 'size': 9})\n",
    "    plt.xticks([])\n",
    "    plt.yticks([])\n",
    "    plt.title(title)\n",
    "    return fig\n",
    "fig = plot_embedding(result, label, 't-SNE embedding')\n",
    "plt.show(fig)"
   ]
  },
  {
   "cell_type": "code",
   "execution_count": 9,
   "metadata": {
    "collapsed": true
   },
   "outputs": [],
   "source": [
    "min_side = []\n",
    "max_side = []\n",
    "for image in images:\n",
    "    height = image['height']\n",
    "    width = image[\"width\"]\n",
    "    if height > width:\n",
    "        min_side.append(width)\n",
    "        max_side.append(height)\n",
    "    else:\n",
    "        min_side.append(height)\n",
    "        max_side.append(width)\n",
    "group = [300,350,400,450,500,600,]\n",
    "plt.hist(min_side,group,  facecolor=\"blue\", edgecolor=\"black\", alpha=0.7)\n",
    "# 显示横轴标签\n",
    "plt.xlabel(\"min_side\")\n",
    "# 显示纵轴标签\n",
    "plt.ylabel(\"num\")\n",
    "# 显示图标题\n",
    "plt.show()    "
   ]
  },
  {
   "cell_type": "code",
   "execution_count": null,
   "metadata": {
    "collapsed": true
   },
   "outputs": [],
   "source": []
  }
 ],
 "metadata": {
  "kernelspec": {
   "display_name": "Python 3",
   "language": "python",
   "name": "python3"
  },
  "language_info": {
   "codemirror_mode": {
    "name": "ipython",
    "version": 3
   },
   "file_extension": ".py",
   "mimetype": "text/x-python",
   "name": "python",
   "nbconvert_exporter": "python",
   "pygments_lexer": "ipython3",
   "version": "3.5.6"
  }
 },
 "nbformat": 4,
 "nbformat_minor": 2
}
